{
 "cells": [
  {
   "cell_type": "markdown",
   "metadata": {},
   "source": [
    "## Implementing Linked List"
   ]
  },
  {
   "cell_type": "code",
   "execution_count": 1,
   "metadata": {},
   "outputs": [
    {
     "name": "stdout",
     "output_type": "stream",
     "text": [
      "1\n",
      "2\n",
      "3\n",
      "List After Front Insertion:\n",
      "6\n",
      "1\n",
      "2\n",
      "3\n",
      "List After Middle Insertion:\n",
      "6\n",
      "1\n",
      "2\n",
      "10\n",
      "3\n",
      "List After append Insertion:\n",
      "6\n",
      "1\n",
      "2\n",
      "10\n",
      "3\n",
      "20\n"
     ]
    }
   ],
   "source": [
    "class Node:\n",
    "    def __init__(self, data):\n",
    "        self.data = data\n",
    "        self.next = None\n",
    "\n",
    "\n",
    "class LinkedList:\n",
    "    def __init__(self):\n",
    "        self.head = None\n",
    "        \n",
    "        \n",
    "    def printList(self):\n",
    "        temp = self.head\n",
    "        while(temp):\n",
    "            print(temp.data)\n",
    "            temp = temp.next\n",
    "            \n",
    "            \n",
    "    def push(self, new_data):\n",
    "        new_node = Node(new_data)\n",
    "        new_node.next = self.head\n",
    "        self.head = new_node\n",
    "    \n",
    "    \n",
    "    def insertAfter(self, prev_node, new_data):\n",
    "        if prev_node is None:\n",
    "            print(\"Node should be in the list\")\n",
    "            return\n",
    "        new_node = Node(new_data)\n",
    "        new_node.next = prev_node.next\n",
    "        prev_node.next = new_node\n",
    "        \n",
    "        \n",
    "    def append(self, new_data):\n",
    "        new_node = Node(new_data)\n",
    "        # if node is empty then new node node will be the head\n",
    "        if self.head == None:\n",
    "            new_node = self.head\n",
    "            return\n",
    "        ## find the last node\n",
    "        last = self.head\n",
    "        while(last.next):\n",
    "            last = last.next\n",
    "            \n",
    "        last.next = new_node\n",
    "          \n",
    "        \n",
    "if __name__ == '__main__':\n",
    "    lList = LinkedList()\n",
    "    lList.head = Node(1)\n",
    "    second = Node(2)\n",
    "    third = Node(3)\n",
    "    \n",
    "    lList.head.next = second\n",
    "    second.next = third\n",
    "    lList.printList()\n",
    "    \n",
    "    ## Push one new node at the front end of list\n",
    "    lList.push(6)\n",
    "    print(\"List After Front Insertion:\")\n",
    "    lList.printList()\n",
    "    lList.insertAfter(second, 10)\n",
    "    print(\"List After Middle Insertion:\")\n",
    "    lList.printList()\n",
    "    lList.append(20)\n",
    "    print(\"List After append Insertion:\")\n",
    "    lList.printList()"
   ]
  },
  {
   "cell_type": "markdown",
   "metadata": {},
   "source": [
    "## Problem1:\n",
    "\n",
    "Remove duplicates from an unsorted linked list"
   ]
  },
  {
   "cell_type": "code",
   "execution_count": 15,
   "metadata": {},
   "outputs": [],
   "source": [
    "def removeDup(head):\n",
    "    seen = set()\n",
    "    curr = head\n",
    "    prev = None\n",
    "    while(curr):\n",
    "        if curr.data in seen:\n",
    "            prev.next = curr.next\n",
    "        else:\n",
    "            seen.add(curr.data)\n",
    "            prev = curr\n",
    "        curr = curr.next"
   ]
  },
  {
   "cell_type": "code",
   "execution_count": 13,
   "metadata": {},
   "outputs": [
    {
     "name": "stdout",
     "output_type": "stream",
     "text": [
      "6\n",
      "1\n",
      "2\n",
      "10\n",
      "3\n",
      "3\n",
      "20\n"
     ]
    }
   ],
   "source": [
    "lList.insertAfter(third, 3)\n",
    "lList.printList()"
   ]
  },
  {
   "cell_type": "code",
   "execution_count": 16,
   "metadata": {},
   "outputs": [],
   "source": [
    "removeDup(lList.head)"
   ]
  },
  {
   "cell_type": "code",
   "execution_count": 17,
   "metadata": {},
   "outputs": [
    {
     "name": "stdout",
     "output_type": "stream",
     "text": [
      "6\n",
      "1\n",
      "2\n",
      "10\n",
      "3\n",
      "20\n"
     ]
    }
   ],
   "source": [
    "lList.printList()"
   ]
  },
  {
   "cell_type": "code",
   "execution_count": null,
   "metadata": {},
   "outputs": [],
   "source": []
  }
 ],
 "metadata": {
  "kernelspec": {
   "display_name": "Python 3",
   "language": "python",
   "name": "python3"
  },
  "language_info": {
   "codemirror_mode": {
    "name": "ipython",
    "version": 3
   },
   "file_extension": ".py",
   "mimetype": "text/x-python",
   "name": "python",
   "nbconvert_exporter": "python",
   "pygments_lexer": "ipython3",
   "version": "3.7.4"
  }
 },
 "nbformat": 4,
 "nbformat_minor": 2
}
