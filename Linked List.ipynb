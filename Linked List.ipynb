{
 "cells": [
  {
   "cell_type": "markdown",
   "metadata": {},
   "source": [
    "## Implementing Linked List"
   ]
  },
  {
   "cell_type": "code",
   "execution_count": 1,
   "metadata": {},
   "outputs": [
    {
     "name": "stdout",
     "output_type": "stream",
     "text": [
      "1\n",
      "2\n",
      "3\n",
      "List After Front Insertion:\n",
      "6\n",
      "1\n",
      "2\n",
      "3\n",
      "List After Middle Insertion:\n",
      "6\n",
      "1\n",
      "2\n",
      "10\n",
      "3\n",
      "List After append Insertion:\n",
      "6\n",
      "1\n",
      "2\n",
      "10\n",
      "3\n",
      "20\n"
     ]
    }
   ],
   "source": [
    "class Node:\n",
    "    def __init__(self, data):\n",
    "        self.data = data\n",
    "        self.next = None\n",
    "\n",
    "\n",
    "class LinkedList:\n",
    "    def __init__(self):\n",
    "        self.head = None\n",
    "        \n",
    "        \n",
    "    def printList(self):\n",
    "        temp = self.head\n",
    "        while(temp):\n",
    "            print(temp.data)\n",
    "            temp = temp.next\n",
    "            \n",
    "            \n",
    "    def push(self, new_data):\n",
    "        new_node = Node(new_data)\n",
    "        new_node.next = self.head\n",
    "        self.head = new_node\n",
    "    \n",
    "    \n",
    "    def insertAfter(self, prev_node, new_data):\n",
    "        if prev_node is None:\n",
    "            print(\"Node should be in the list\")\n",
    "            return\n",
    "        new_node = Node(new_data)\n",
    "        new_node.next = prev_node.next\n",
    "        prev_node.next = new_node\n",
    "        \n",
    "        \n",
    "    def append(self, new_data):\n",
    "        new_node = Node(new_data)\n",
    "        # if node is empty then new node node will be the head\n",
    "        if self.head == None:\n",
    "            new_node = self.head\n",
    "            return\n",
    "        ## find the last node\n",
    "        last = self.head\n",
    "        while(last.next):\n",
    "            last = last.next\n",
    "            \n",
    "        last.next = new_node\n",
    "          \n",
    "        \n",
    "if __name__ == '__main__':\n",
    "    lList = LinkedList()\n",
    "    lList.head = Node(1)\n",
    "    second = Node(2)\n",
    "    third = Node(3)\n",
    "    \n",
    "    lList.head.next = second\n",
    "    second.next = third\n",
    "    lList.printList()\n",
    "    \n",
    "    ## Push one new node at the front end of list\n",
    "    lList.push(6)\n",
    "    print(\"List After Front Insertion:\")\n",
    "    lList.printList()\n",
    "    lList.insertAfter(second, 10)\n",
    "    print(\"List After Middle Insertion:\")\n",
    "    lList.printList()\n",
    "    lList.append(20)\n",
    "    print(\"List After append Insertion:\")\n",
    "    lList.printList()"
   ]
  },
  {
   "cell_type": "markdown",
   "metadata": {},
   "source": [
    "## Problem1:\n",
    "\n",
    "Remove duplicates from an unsorted linked list"
   ]
  },
  {
   "cell_type": "code",
   "execution_count": 4,
   "metadata": {},
   "outputs": [],
   "source": [
    "def removeDup(head):\n",
    "    seen = set()\n",
    "    curr = head\n",
    "    prev = None\n",
    "    while(curr):\n",
    "        if curr.data in seen:\n",
    "            prev.next = curr.next\n",
    "        else:\n",
    "            seen.add(curr.data)\n",
    "            prev = curr\n",
    "        curr = curr.next"
   ]
  },
  {
   "cell_type": "code",
   "execution_count": 2,
   "metadata": {},
   "outputs": [
    {
     "name": "stdout",
     "output_type": "stream",
     "text": [
      "6\n",
      "1\n",
      "2\n",
      "10\n",
      "3\n",
      "3\n",
      "20\n"
     ]
    }
   ],
   "source": [
    "lList.insertAfter(third, 3)\n",
    "lList.printList()"
   ]
  },
  {
   "cell_type": "code",
   "execution_count": 5,
   "metadata": {},
   "outputs": [],
   "source": [
    "removeDup(lList.head)"
   ]
  },
  {
   "cell_type": "code",
   "execution_count": 6,
   "metadata": {},
   "outputs": [
    {
     "name": "stdout",
     "output_type": "stream",
     "text": [
      "6\n",
      "1\n",
      "2\n",
      "10\n",
      "3\n",
      "20\n"
     ]
    }
   ],
   "source": [
    "lList.printList()"
   ]
  },
  {
   "cell_type": "markdown",
   "metadata": {},
   "source": [
    "## Problem2:\n",
    "\n",
    "Given a Linked List and a number n, write a function that returns the value at the n’th node from the end of the Linked List."
   ]
  },
  {
   "cell_type": "code",
   "execution_count": 7,
   "metadata": {},
   "outputs": [],
   "source": [
    "def printNthFromLast(head, n):\n",
    "    temp = head\n",
    "    length = 0\n",
    "    while temp is not None:\n",
    "        temp = temp.next\n",
    "        length += 1\n",
    "        \n",
    "    if n > length:\n",
    "        print(\"location is greater than the {} which is length of list\".format(length))\n",
    "        return\n",
    "    temp = head\n",
    "    for i in range(0, length - n):\n",
    "        temp = temp.next\n",
    "    return temp.data"
   ]
  },
  {
   "cell_type": "code",
   "execution_count": 10,
   "metadata": {
    "scrolled": true
   },
   "outputs": [
    {
     "data": {
      "text/plain": [
       "20"
      ]
     },
     "execution_count": 10,
     "metadata": {},
     "output_type": "execute_result"
    }
   ],
   "source": [
    "printNthFromLast(lList.head, 1)"
   ]
  },
  {
   "cell_type": "markdown",
   "metadata": {},
   "source": [
    "## Problem3:\n",
    "\n",
    "Implement an algorithm to delete a node in the middle (i.e., any node but the first and last node, not necessarily the exact middle) of a singly linked list, given only access to that node."
   ]
  },
  {
   "cell_type": "code",
   "execution_count": 2,
   "metadata": {},
   "outputs": [],
   "source": [
    "def delete_mid_node(node):\n",
    "    if node is None or node.next is None:\n",
    "        return False\n",
    "    next_node = node.next\n",
    "    node.data = next_node.data\n",
    "    node.next = next_node.next\n",
    "    return True"
   ]
  },
  {
   "cell_type": "code",
   "execution_count": 4,
   "metadata": {},
   "outputs": [
    {
     "name": "stdout",
     "output_type": "stream",
     "text": [
      "6\n",
      "1\n",
      "2\n",
      "10\n",
      "3\n",
      "20\n"
     ]
    }
   ],
   "source": [
    "lList.printList()"
   ]
  },
  {
   "cell_type": "code",
   "execution_count": 5,
   "metadata": {},
   "outputs": [
    {
     "data": {
      "text/plain": [
       "<__main__.Node at 0x1db831c8508>"
      ]
     },
     "execution_count": 5,
     "metadata": {},
     "output_type": "execute_result"
    }
   ],
   "source": []
  },
  {
   "cell_type": "code",
   "execution_count": 6,
   "metadata": {},
   "outputs": [
    {
     "data": {
      "text/plain": [
       "True"
      ]
     },
     "execution_count": 6,
     "metadata": {},
     "output_type": "execute_result"
    }
   ],
   "source": [
    "delete_mid_node(second)"
   ]
  },
  {
   "cell_type": "code",
   "execution_count": 7,
   "metadata": {},
   "outputs": [
    {
     "name": "stdout",
     "output_type": "stream",
     "text": [
      "6\n",
      "1\n",
      "10\n",
      "3\n",
      "20\n"
     ]
    }
   ],
   "source": [
    "lList.printList()"
   ]
  },
  {
   "cell_type": "code",
   "execution_count": null,
   "metadata": {},
   "outputs": [],
   "source": []
  }
 ],
 "metadata": {
  "kernelspec": {
   "display_name": "Python 3",
   "language": "python",
   "name": "python3"
  },
  "language_info": {
   "codemirror_mode": {
    "name": "ipython",
    "version": 3
   },
   "file_extension": ".py",
   "mimetype": "text/x-python",
   "name": "python",
   "nbconvert_exporter": "python",
   "pygments_lexer": "ipython3",
   "version": "3.7.4"
  }
 },
 "nbformat": 4,
 "nbformat_minor": 2
}
