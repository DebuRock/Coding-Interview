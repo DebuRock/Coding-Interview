{
 "cells": [
  {
   "cell_type": "code",
   "execution_count": 49,
   "metadata": {},
   "outputs": [],
   "source": [
    "hash_table = [[] for _ in range(10)]\n",
    "\n",
    "# define the hash function\n",
    "def hash_function(key):\n",
    "    return key % len(hash_table)\n",
    "\n",
    "# insert data into hash_table\n",
    "def insert(hash_table, key, value):\n",
    "    hash_key = hash_function(key)\n",
    "    key_exist = False\n",
    "    bucket = hash_table[hash_key]\n",
    "    for i, kv in enumerate(bucket):\n",
    "        k, v = kv\n",
    "        if key == k:\n",
    "            key_exist = True\n",
    "            break\n",
    "    if key_exist:\n",
    "        bucket[i] = ((key, value))\n",
    "    else:\n",
    "        bucket.append((key, value))\n",
    "    \n",
    "# search in hash table\n",
    "def search(hash_table, key):\n",
    "    hash_key = hash_function(key)\n",
    "    bucket = hash_table[hash_key]\n",
    "    for index, kv in enumerate(bucket):\n",
    "        k, v= kv\n",
    "        if key == k:\n",
    "            return v"
   ]
  },
  {
   "cell_type": "code",
   "execution_count": 53,
   "metadata": {},
   "outputs": [],
   "source": [
    "insert(hash_table, 10, 'Nepal')\n",
    "insert(hash_table, 15, 'America')\n",
    "insert(hash_table, 12, 'India')\n",
    "insert(hash_table, 20, 'China')"
   ]
  },
  {
   "cell_type": "code",
   "execution_count": 54,
   "metadata": {},
   "outputs": [
    {
     "data": {
      "text/plain": [
       "[[(10, 'Nepal'), (20, 'China')],\n",
       " [],\n",
       " [(12, 'India')],\n",
       " [],\n",
       " [],\n",
       " [(15, 'America')],\n",
       " [],\n",
       " [],\n",
       " [],\n",
       " []]"
      ]
     },
     "execution_count": 54,
     "metadata": {},
     "output_type": "execute_result"
    }
   ],
   "source": [
    "hash_table"
   ]
  },
  {
   "cell_type": "code",
   "execution_count": 55,
   "metadata": {},
   "outputs": [
    {
     "data": {
      "text/plain": [
       "'Nepal'"
      ]
     },
     "execution_count": 55,
     "metadata": {},
     "output_type": "execute_result"
    }
   ],
   "source": [
    "search(hash_table, 10)"
   ]
  },
  {
   "cell_type": "code",
   "execution_count": 75,
   "metadata": {},
   "outputs": [],
   "source": [
    "my_string = 'abcd'"
   ]
  },
  {
   "cell_type": "code",
   "execution_count": 57,
   "metadata": {},
   "outputs": [
    {
     "data": {
      "text/plain": [
       "{'a', 'b', 'd', 'e', 'r', 't'}"
      ]
     },
     "execution_count": 57,
     "metadata": {},
     "output_type": "execute_result"
    }
   ],
   "source": [
    "set(my_string)"
   ]
  },
  {
   "cell_type": "code",
   "execution_count": 58,
   "metadata": {},
   "outputs": [
    {
     "data": {
      "text/plain": [
       "9"
      ]
     },
     "execution_count": 58,
     "metadata": {},
     "output_type": "execute_result"
    }
   ],
   "source": [
    "len(my_string)"
   ]
  },
  {
   "cell_type": "code",
   "execution_count": 59,
   "metadata": {},
   "outputs": [
    {
     "data": {
      "text/plain": [
       "6"
      ]
     },
     "execution_count": 59,
     "metadata": {},
     "output_type": "execute_result"
    }
   ],
   "source": [
    "len(set(my_string))"
   ]
  },
  {
   "cell_type": "markdown",
   "metadata": {},
   "source": [
    "## Problem1:\n",
    "Implement an algorithm to determine a string has all unique characters. You can't use additional data structures"
   ]
  },
  {
   "cell_type": "code",
   "execution_count": 4,
   "metadata": {},
   "outputs": [],
   "source": [
    "def isUniqueChar(strn):\n",
    "    char_set = [] * (len(strn) + 1)\n",
    "    for i, char in enumerate(strn):\n",
    "        if ord(char) in char_set:\n",
    "            return False\n",
    "        char_set.append(ord(char))\n",
    "    return True"
   ]
  },
  {
   "cell_type": "code",
   "execution_count": 6,
   "metadata": {},
   "outputs": [
    {
     "data": {
      "text/plain": [
       "False"
      ]
     },
     "execution_count": 6,
     "metadata": {},
     "output_type": "execute_result"
    }
   ],
   "source": [
    "isUniqueChar('abcda')"
   ]
  },
  {
   "cell_type": "code",
   "execution_count": 82,
   "metadata": {},
   "outputs": [
    {
     "data": {
      "text/plain": [
       "[100, 101, 98, 97, True, True, True, True, True]"
      ]
     },
     "execution_count": 82,
     "metadata": {},
     "output_type": "execute_result"
    }
   ],
   "source": [
    "char_set"
   ]
  },
  {
   "cell_type": "markdown",
   "metadata": {},
   "source": [
    "## Problem2:"
   ]
  },
  {
   "cell_type": "markdown",
   "metadata": {},
   "source": [
    "Write code to remove the duplicate characters in a string without using any additional buffer"
   ]
  },
  {
   "cell_type": "markdown",
   "metadata": {},
   "source": [
    "#### Algorithm\n",
    "1. For each character, check if it is duplicate of already found characters\n",
    "2. Skip duplicate character and update the non-duplicate charcaters"
   ]
  },
  {
   "cell_type": "code",
   "execution_count": 12,
   "metadata": {},
   "outputs": [],
   "source": [
    "def remove_duplicates(strn):\n",
    "    index = 0\n",
    "    strn = list(strn)\n",
    "    ## Loop through each caharacter of the string\n",
    "    for i in range(len(strn)):\n",
    "        \n",
    "        # check string[i] is present before it\n",
    "        for j in range(0, i+1):\n",
    "            if strn[i] == strn[j]:\n",
    "                break\n",
    "        \n",
    "        # if not present then add to the result\n",
    "        if j == i:\n",
    "            strn[index] = strn[i]\n",
    "            index += 1\n",
    "            \n",
    "    return \"\".join(strn[:index])"
   ]
  },
  {
   "cell_type": "code",
   "execution_count": 14,
   "metadata": {},
   "outputs": [
    {
     "data": {
      "text/plain": [
       "'acdf'"
      ]
     },
     "execution_count": 14,
     "metadata": {},
     "output_type": "execute_result"
    }
   ],
   "source": [
    "remove_duplicates('aacdf')"
   ]
  },
  {
   "cell_type": "markdown",
   "metadata": {},
   "source": [
    "## Problem3:\n",
    "\n",
    "Given two string, write a method to find one string is a permutation of the other.\n",
    "Assuming that comparision is case sensitive and whitespace is significant"
   ]
  },
  {
   "cell_type": "code",
   "execution_count": 17,
   "metadata": {},
   "outputs": [],
   "source": [
    "def checkPermutation(str1, str2):\n",
    "    if len(sorted(str1)) != len(sorted(str2)):\n",
    "        return False\n",
    "    return sorted(str1) == sorted(str2)"
   ]
  },
  {
   "cell_type": "code",
   "execution_count": 21,
   "metadata": {},
   "outputs": [],
   "source": [
    "NO_OF_CHARS = 256\n",
    "def checkAnagram(str1, str2):\n",
    "    count1 = [0] * NO_OF_CHARS\n",
    "    count2 = [0] * NO_OF_CHARS\n",
    "    \n",
    "    for char in str1:\n",
    "        count1[ord(char)] += 1\n",
    "    for char in str2:\n",
    "        count2[ord(char)] += 1\n",
    "        \n",
    "    if len(str1) != len(str2):\n",
    "        return False\n",
    "    \n",
    "    for i in range(NO_OF_CHARS):\n",
    "        if count1[i] != count2[i]:\n",
    "            return False\n",
    "    return True"
   ]
  },
  {
   "cell_type": "code",
   "execution_count": 23,
   "metadata": {},
   "outputs": [
    {
     "data": {
      "text/plain": [
       "True"
      ]
     },
     "execution_count": 23,
     "metadata": {},
     "output_type": "execute_result"
    }
   ],
   "source": [
    "checkAnagram('god', 'dog')"
   ]
  },
  {
   "cell_type": "markdown",
   "metadata": {},
   "source": [
    "## Problem4:\n",
    "reverse an integer"
   ]
  },
  {
   "cell_type": "code",
   "execution_count": 5,
   "metadata": {},
   "outputs": [],
   "source": [
    "def reverse_int(n):\n",
    "    reverse = 0\n",
    "    while n > 0:\n",
    "        a = n % 10\n",
    "        reverse = reverse*10 + a\n",
    "        n = n // 10\n",
    "    return reverse"
   ]
  },
  {
   "cell_type": "code",
   "execution_count": 8,
   "metadata": {},
   "outputs": [
    {
     "data": {
      "text/plain": [
       "84747353"
      ]
     },
     "execution_count": 8,
     "metadata": {},
     "output_type": "execute_result"
    }
   ],
   "source": [
    "reverse_int(35374748)"
   ]
  },
  {
   "cell_type": "markdown",
   "metadata": {},
   "source": [
    "## Problem5:\n",
    "\n",
    "Write a method to replace all spaces in a string with '%20'. You may assume that the string has sufficient space at the end to hold the additional characters, and that you are given the \"true\" length of the string."
   ]
  },
  {
   "cell_type": "code",
   "execution_count": 9,
   "metadata": {},
   "outputs": [],
   "source": [
    "MAX = 1000\n",
    "def urlify(string):\n",
    "    string = string.strip()\n",
    "    i = len(string)\n",
    "    # count number of spaces\n",
    "    space_count = string.count(' ')\n",
    "    \n",
    "    # find the new length\n",
    "    new_length = i + space_count * 2\n",
    "    \n",
    "    if new_length > MAX:\n",
    "        return -1\n",
    "    \n",
    "    # start filling character from end\n",
    "    index = new_length - 1\n",
    "    \n",
    "    string = list(string)\n",
    "    \n",
    "    # fill the string array\n",
    "    for f in range(i-2, new_length-2):\n",
    "        string.append(0)\n",
    "        \n",
    "    # fill the rest of the string from end:\n",
    "    for j in range(i-1, 0, -1):\n",
    "        if string[j] == ' ':\n",
    "            string[index] = '0'\n",
    "            string[index - 1] = '2'\n",
    "            string[index - 2] = '%'\n",
    "            index = index - 3\n",
    "        else:\n",
    "            string[index] = string[j]\n",
    "            index -= 1\n",
    "            \n",
    "    return ''.join(string)"
   ]
  },
  {
   "cell_type": "code",
   "execution_count": 10,
   "metadata": {},
   "outputs": [
    {
     "data": {
      "text/plain": [
       "'I%20am%20debu'"
      ]
     },
     "execution_count": 10,
     "metadata": {},
     "output_type": "execute_result"
    }
   ],
   "source": [
    "urlify('I am debu   ')"
   ]
  },
  {
   "cell_type": "markdown",
   "metadata": {},
   "source": [
    "## Problem6:\n",
    "\n",
    "Implement a method to perform basic string compression using the counts of repeated characters. For example, the string aabcccccaaa would become a2blc5a3. If the \"compressed \"string would not become smaller than the original string, your method should return the original string. You can assume the string has only uppercase and lowercase letters (a - z)."
   ]
  },
  {
   "cell_type": "code",
   "execution_count": 1,
   "metadata": {},
   "outputs": [],
   "source": [
    "from collections import OrderedDict"
   ]
  },
  {
   "cell_type": "code",
   "execution_count": 2,
   "metadata": {},
   "outputs": [],
   "source": [
    "def lengthEncoding(targetStr):\n",
    "    dct = OrderedDict.fromkeys(targetStr, 0)\n",
    "    for ch in targetStr:\n",
    "        dct[ch] += 1\n",
    "    compressedStr = ''\n",
    "    \n",
    "    for key, value in dct.items():\n",
    "        compressedStr = compressedStr + key + str(value)\n",
    "    return compressedStr"
   ]
  },
  {
   "cell_type": "code",
   "execution_count": 3,
   "metadata": {},
   "outputs": [
    {
     "data": {
      "text/plain": [
       "OrderedDict([('a', 0), ('b', 0), ('c', 0)])"
      ]
     },
     "execution_count": 3,
     "metadata": {},
     "output_type": "execute_result"
    }
   ],
   "source": [
    "OrderedDict.fromkeys('aabcccccaaa', 0)"
   ]
  },
  {
   "cell_type": "code",
   "execution_count": 36,
   "metadata": {},
   "outputs": [
    {
     "data": {
      "text/plain": [
       "'a5b1c5'"
      ]
     },
     "execution_count": 36,
     "metadata": {},
     "output_type": "execute_result"
    }
   ],
   "source": [
    "lengthEncoding('aabcccccaaa')"
   ]
  },
  {
   "cell_type": "code",
   "execution_count": 43,
   "metadata": {},
   "outputs": [],
   "source": [
    "def compressString(targetStr):\n",
    "    compressedStr = \"\"\n",
    "    countConsecutive = 0\n",
    "    \n",
    "    for i in range(len(targetStr)):\n",
    "        countConsecutive += 1\n",
    "        \n",
    "        if (i + 1) >= len(targetStr) or (targetStr[i] != targetStr[i+1]):\n",
    "            compressedStr = compressedStr + targetStr[i] + str(countConsecutive)\n",
    "            countConsecutive = 0\n",
    "    return compressedStr if len(compressedStr) < len(targetStr) else targetStr"
   ]
  },
  {
   "cell_type": "code",
   "execution_count": 44,
   "metadata": {},
   "outputs": [
    {
     "data": {
      "text/plain": [
       "'a2b1c5a3'"
      ]
     },
     "execution_count": 44,
     "metadata": {},
     "output_type": "execute_result"
    }
   ],
   "source": [
    "compressString('aabcccccaaa')"
   ]
  },
  {
   "cell_type": "markdown",
   "metadata": {},
   "source": [
    "## Problem7:\n",
    "\n",
    "Given a square matrix, turn it by 90 degrees in clockwise direction without using any extra space.\n",
    "\n",
    "**Approach:** The approach is similar to Inplace rotate square matrix by 90 degrees | Set 1. The only thing that is different is to print the elements of cycle in clockwise direction i.e. An N x N matrix will have floor(N/2) square cycles.\n",
    "For example, a 3 X 3 matrix will have 1 cycle. The cycle is formed by its 1st row, last column, last row, and 1st column.\n",
    "For each square cycle, we swap the elements involved with the corresponding cell in the matrix in the clockwise direction. We just need a temporary variable for this.\n",
    "\n",
    "Let size of row and column be 3.\n",
    "During first iteration –\n",
    "\n",
    "a[i][j] = Element at first index (leftmost corner top).\n",
    "\n",
    "a[j][n-1-i]= Rightmost corner top Element.\n",
    "\n",
    "a[n-1-i][n-1-j] = Righmost corner bottom element.\n",
    "\n",
    "a[n-1-j][i] = Leftmost corner bottom element.\n",
    "\n",
    "Move these elements in the clockwise direction."
   ]
  },
  {
   "cell_type": "code",
   "execution_count": 5,
   "metadata": {},
   "outputs": [],
   "source": [
    "def rotate90clockwise(A):\n",
    "    N = len(A[0])\n",
    "    \n",
    "    for i in range(N//2):\n",
    "        for j in range(i, N-i-1):\n",
    "            temp = A[i][j]\n",
    "            A[i][j] = A[N-1-j][i]\n",
    "            A[N-1-j][i] = A[N-1-i][N-1-j]\n",
    "            A[N-1-i][N-1-j] = A[j][N-1-i]\n",
    "            A[j][N-1-i] = temp\n",
    "            \n",
    "    \n",
    "def printMatrix(A):\n",
    "    N = len(A[0])\n",
    "    for i in range(N):\n",
    "        print(A[i])"
   ]
  },
  {
   "cell_type": "code",
   "execution_count": 6,
   "metadata": {},
   "outputs": [],
   "source": [
    "A = [[1, 2, 3, 4], \n",
    "     [5, 6, 7, 8],  \n",
    "     [9, 10, 11, 12],  \n",
    "     [13, 14, 15, 16]]"
   ]
  },
  {
   "cell_type": "code",
   "execution_count": 7,
   "metadata": {},
   "outputs": [
    {
     "name": "stdout",
     "output_type": "stream",
     "text": [
      "[13, 9, 5, 1]\n",
      "[14, 10, 6, 2]\n",
      "[15, 11, 7, 3]\n",
      "[16, 12, 8, 4]\n"
     ]
    }
   ],
   "source": [
    "rotate90clockwise(A)\n",
    "printMatrix(A)"
   ]
  },
  {
   "cell_type": "markdown",
   "metadata": {},
   "source": [
    "## Problem8:\n",
    "\n",
    "Zero Matrix: Write an algorithm such that if an element in an MxN matrix is 0, its entire row and column are set to 0.\n",
    "\n",
    "### Algorithm\n",
    "We will use the first row and first column of the input matrix in place of the auxiliary arrays row[] and col[] of method 1. So what we do is: first take care of first row and column and store the info about these two in two flag variables rowFlag and colFlag. Once we have this info, we can use first row and first column as auxiliary arrays and apply method 1 for submatrix (matrix excluding first row and first column) of size (M-1)*(N-1).\n",
    "\n",
    "1) Scan the first row and set a variable rowFlag to indicate whether we need to set all 1s in first row or not.\n",
    "\n",
    "2) Scan the first column and set a variable colFlag to indicate whether we need to set all 1s in first column or not.\n",
    "\n",
    "3) Use first row and first column as the auxiliary arrays row[] and col[] respectively, consider the matrix as submatrix starting from second row and second column and apply method 1.\n",
    "\n",
    "4) Finally, using rowFlag and colFlag, update first row and first column if needed.\n",
    "\n",
    "Time Complexity: O(M*N)\n",
    "\n",
    "Auxiliary Space: O(1)"
   ]
  },
  {
   "cell_type": "code",
   "execution_count": 2,
   "metadata": {},
   "outputs": [],
   "source": [
    "def modifyMatrix(A):\n",
    "    #variables to check is there in zero in the firts row and column\n",
    "    row_flag = False\n",
    "    col_flag = False\n",
    "    \n",
    "    # updating the first row and col if zero in encountered\n",
    "    for i in range(0, len(A)):\n",
    "        for j in range(0, len(A)):\n",
    "            if i == 0 and A[i][j] == 0:\n",
    "                row_flag = True\n",
    "                \n",
    "            if j == 0 and A[i][j] == 0:\n",
    "                col_flag = True\n",
    "                \n",
    "            if A[i][j] == 0:\n",
    "                A[0][j] = 0\n",
    "                A[i][0] = 0\n",
    "                \n",
    "    # Modify the input matrix using the first row and first column\n",
    "    for i in range(1, len(A)):\n",
    "        for j in range(1, len(A) + 1):\n",
    "            if A[0][i] == 0 or A[i][0] == 0:\n",
    "                A[i][j] == 0\n",
    "                \n",
    "    # Modify first row if there is any zero\n",
    "    if row_flag:\n",
    "        for i in range(0, len(A)):\n",
    "            A[0][i] = 0\n",
    "            \n",
    "    # Modify first column if there is any zero\n",
    "    if col_flag:\n",
    "        for i in range(0, len(A)):\n",
    "            A[i][0] = 0\n",
    "            \n",
    "            \n",
    "# A utility function to print a 2D matrix \n",
    "def printMatrix(mat) : \n",
    "      \n",
    "    for i in range(0, len(mat)) : \n",
    "        for j in range(0, len(mat) + 1) : \n",
    "            print( mat[i][j], end = \"\" ) \n",
    "          \n",
    "        print() "
   ]
  },
  {
   "cell_type": "code",
   "execution_count": 4,
   "metadata": {},
   "outputs": [],
   "source": [
    "mat = [ [0, 1, 1, 0], \n",
    "        [1, 1, 0, 1], \n",
    "        [1, 1, 1, 1] ]"
   ]
  },
  {
   "cell_type": "code",
   "execution_count": 5,
   "metadata": {},
   "outputs": [],
   "source": [
    "modifyMatrix(mat)"
   ]
  },
  {
   "cell_type": "code",
   "execution_count": 6,
   "metadata": {},
   "outputs": [
    {
     "name": "stdout",
     "output_type": "stream",
     "text": [
      "0000\n",
      "0101\n",
      "0111\n"
     ]
    }
   ],
   "source": [
    "printMatrix(mat)"
   ]
  },
  {
   "cell_type": "markdown",
   "metadata": {},
   "source": [
    "## Problem9:\n",
    "\n",
    "Assume you have a method isSubstring which checks if one word is a substring of another. Given two strings, s1 and s2, write code to check if s2 is a rotation of s1 using only one call to isSubstring (e.g.,\"waterbottle\"isa rotation o f ' e r b o t t l e w a t \" ) ."
   ]
  },
  {
   "cell_type": "code",
   "execution_count": 1,
   "metadata": {},
   "outputs": [],
   "source": [
    "def isRotation(s1, s2):\n",
    "    if len(s1) == len(s2) and len(s1) > 0:\n",
    "        newString = s1 + s1\n",
    "        return False if newString.find(s2) == -1 else True       \n",
    "    else:\n",
    "        return False"
   ]
  },
  {
   "cell_type": "code",
   "execution_count": 2,
   "metadata": {},
   "outputs": [
    {
     "data": {
      "text/plain": [
       "True"
      ]
     },
     "execution_count": 2,
     "metadata": {},
     "output_type": "execute_result"
    }
   ],
   "source": [
    "isRotation('waterbottle', 'erbottlewat')"
   ]
  },
  {
   "cell_type": "markdown",
   "metadata": {},
   "source": [
    "## Problem10:\n",
    "\n",
    "Write program to get the denominations of ATM withdrawl"
   ]
  },
  {
   "cell_type": "code",
   "execution_count": 23,
   "metadata": {},
   "outputs": [],
   "source": [
    "def ATMWithdrawl(amount):\n",
    "    denominations = [2000, 500, 200, 100, 50]\n",
    "    result = []\n",
    "    temp = amount\n",
    "    while temp > 0:\n",
    "        if temp - denominations[0] < 0:\n",
    "            denominations.remove(denominations[0])\n",
    "        else:\n",
    "            result.append(denominations[0])\n",
    "            temp = temp - denominations[0]\n",
    "    if temp == 0 and amount > 0:\n",
    "        return result\n",
    "    else:\n",
    "        print(\"Denomination not available for the given amount\")"
   ]
  },
  {
   "cell_type": "code",
   "execution_count": 25,
   "metadata": {},
   "outputs": [
    {
     "data": {
      "text/plain": [
       "[500, 500, 500, 200, 50]"
      ]
     },
     "execution_count": 25,
     "metadata": {},
     "output_type": "execute_result"
    }
   ],
   "source": [
    "ATMWithdrawl(1750)"
   ]
  },
  {
   "cell_type": "code",
   "execution_count": 28,
   "metadata": {},
   "outputs": [],
   "source": [
    "denoms = {2000: 10, 500: 5, 200: 10, 100: 5}"
   ]
  },
  {
   "cell_type": "code",
   "execution_count": 33,
   "metadata": {},
   "outputs": [],
   "source": [
    "dkey = list(denoms.keys())"
   ]
  },
  {
   "cell_type": "code",
   "execution_count": 34,
   "metadata": {},
   "outputs": [
    {
     "data": {
      "text/plain": [
       "10"
      ]
     },
     "execution_count": 34,
     "metadata": {},
     "output_type": "execute_result"
    }
   ],
   "source": [
    "denoms[dkey[0]]"
   ]
  },
  {
   "cell_type": "code",
   "execution_count": null,
   "metadata": {},
   "outputs": [],
   "source": []
  }
 ],
 "metadata": {
  "kernelspec": {
   "display_name": "Python 3",
   "language": "python",
   "name": "python3"
  },
  "language_info": {
   "codemirror_mode": {
    "name": "ipython",
    "version": 3
   },
   "file_extension": ".py",
   "mimetype": "text/x-python",
   "name": "python",
   "nbconvert_exporter": "python",
   "pygments_lexer": "ipython3",
   "version": "3.7.4"
  }
 },
 "nbformat": 4,
 "nbformat_minor": 2
}
