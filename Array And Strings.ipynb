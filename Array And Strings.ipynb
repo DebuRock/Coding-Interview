{
 "cells": [
  {
   "cell_type": "code",
   "execution_count": 49,
   "metadata": {},
   "outputs": [],
   "source": [
    "hash_table = [[] for _ in range(10)]\n",
    "\n",
    "# define the hash function\n",
    "def hash_function(key):\n",
    "    return key % len(hash_table)\n",
    "\n",
    "# insert data into hash_table\n",
    "def insert(hash_table, key, value):\n",
    "    hash_key = hash_function(key)\n",
    "    key_exist = False\n",
    "    bucket = hash_table[hash_key]\n",
    "    for i, kv in enumerate(bucket):\n",
    "        k, v = kv\n",
    "        if key == k:\n",
    "            key_exist = True\n",
    "            break\n",
    "    if key_exist:\n",
    "        bucket[i] = ((key, value))\n",
    "    else:\n",
    "        bucket.append((key, value))\n",
    "    \n",
    "# search in hash table\n",
    "def search(hash_table, key):\n",
    "    hash_key = hash_function(key)\n",
    "    bucket = hash_table[hash_key]\n",
    "    for index, kv in enumerate(bucket):\n",
    "        k, v= kv\n",
    "        if key == k:\n",
    "            return v"
   ]
  },
  {
   "cell_type": "code",
   "execution_count": 53,
   "metadata": {},
   "outputs": [],
   "source": [
    "insert(hash_table, 10, 'Nepal')\n",
    "insert(hash_table, 15, 'America')\n",
    "insert(hash_table, 12, 'India')\n",
    "insert(hash_table, 20, 'China')"
   ]
  },
  {
   "cell_type": "code",
   "execution_count": 54,
   "metadata": {},
   "outputs": [
    {
     "data": {
      "text/plain": [
       "[[(10, 'Nepal'), (20, 'China')],\n",
       " [],\n",
       " [(12, 'India')],\n",
       " [],\n",
       " [],\n",
       " [(15, 'America')],\n",
       " [],\n",
       " [],\n",
       " [],\n",
       " []]"
      ]
     },
     "execution_count": 54,
     "metadata": {},
     "output_type": "execute_result"
    }
   ],
   "source": [
    "hash_table"
   ]
  },
  {
   "cell_type": "code",
   "execution_count": 55,
   "metadata": {},
   "outputs": [
    {
     "data": {
      "text/plain": [
       "'Nepal'"
      ]
     },
     "execution_count": 55,
     "metadata": {},
     "output_type": "execute_result"
    }
   ],
   "source": [
    "search(hash_table, 10)"
   ]
  },
  {
   "cell_type": "code",
   "execution_count": 75,
   "metadata": {},
   "outputs": [],
   "source": [
    "my_string = 'abcd'"
   ]
  },
  {
   "cell_type": "code",
   "execution_count": 57,
   "metadata": {},
   "outputs": [
    {
     "data": {
      "text/plain": [
       "{'a', 'b', 'd', 'e', 'r', 't'}"
      ]
     },
     "execution_count": 57,
     "metadata": {},
     "output_type": "execute_result"
    }
   ],
   "source": [
    "set(my_string)"
   ]
  },
  {
   "cell_type": "code",
   "execution_count": 58,
   "metadata": {},
   "outputs": [
    {
     "data": {
      "text/plain": [
       "9"
      ]
     },
     "execution_count": 58,
     "metadata": {},
     "output_type": "execute_result"
    }
   ],
   "source": [
    "len(my_string)"
   ]
  },
  {
   "cell_type": "code",
   "execution_count": 59,
   "metadata": {},
   "outputs": [
    {
     "data": {
      "text/plain": [
       "6"
      ]
     },
     "execution_count": 59,
     "metadata": {},
     "output_type": "execute_result"
    }
   ],
   "source": [
    "len(set(my_string))"
   ]
  },
  {
   "cell_type": "markdown",
   "metadata": {},
   "source": [
    "## Problem1:\n",
    "Implement an algorithm to determine a string has all unique characters. You can't use additional data structures"
   ]
  },
  {
   "cell_type": "code",
   "execution_count": 4,
   "metadata": {},
   "outputs": [],
   "source": [
    "def isUniqueChar(strn):\n",
    "    char_set = [] * (len(strn) + 1)\n",
    "    for i, char in enumerate(strn):\n",
    "        if ord(char) in char_set:\n",
    "            return False\n",
    "        char_set.append(ord(char))\n",
    "    return True"
   ]
  },
  {
   "cell_type": "code",
   "execution_count": 6,
   "metadata": {},
   "outputs": [
    {
     "data": {
      "text/plain": [
       "False"
      ]
     },
     "execution_count": 6,
     "metadata": {},
     "output_type": "execute_result"
    }
   ],
   "source": [
    "isUniqueChar('abcda')"
   ]
  },
  {
   "cell_type": "code",
   "execution_count": 82,
   "metadata": {},
   "outputs": [
    {
     "data": {
      "text/plain": [
       "[100, 101, 98, 97, True, True, True, True, True]"
      ]
     },
     "execution_count": 82,
     "metadata": {},
     "output_type": "execute_result"
    }
   ],
   "source": [
    "char_set"
   ]
  },
  {
   "cell_type": "markdown",
   "metadata": {},
   "source": [
    "## Problem2:"
   ]
  },
  {
   "cell_type": "markdown",
   "metadata": {},
   "source": [
    "Write code to remove the duplicate characters in a string without using any additional buffer"
   ]
  },
  {
   "cell_type": "markdown",
   "metadata": {},
   "source": [
    "#### Algorithm\n",
    "1. For each character, check if it is duplicate of already found characters\n",
    "2. Skip duplicate character and update the non-duplicate charcaters"
   ]
  },
  {
   "cell_type": "code",
   "execution_count": 12,
   "metadata": {},
   "outputs": [],
   "source": [
    "def remove_duplicates(strn):\n",
    "    index = 0\n",
    "    strn = list(strn)\n",
    "    ## Loop through each caharacter of the string\n",
    "    for i in range(len(strn)):\n",
    "        \n",
    "        # check string[i] is present before it\n",
    "        for j in range(0, i+1):\n",
    "            if strn[i] == strn[j]:\n",
    "                break\n",
    "        \n",
    "        # if not present then add to the result\n",
    "        if j == i:\n",
    "            strn[index] = strn[i]\n",
    "            index += 1\n",
    "            \n",
    "    return \"\".join(strn[:index])"
   ]
  },
  {
   "cell_type": "code",
   "execution_count": 14,
   "metadata": {},
   "outputs": [
    {
     "data": {
      "text/plain": [
       "'acdf'"
      ]
     },
     "execution_count": 14,
     "metadata": {},
     "output_type": "execute_result"
    }
   ],
   "source": [
    "remove_duplicates('aacdf')"
   ]
  },
  {
   "cell_type": "markdown",
   "metadata": {},
   "source": [
    "## Problem3:\n",
    "\n",
    "Given two string, write a method to find one string is a permutation of the other.\n",
    "Assuming that comparision is case sensitive and whitespace is significant"
   ]
  },
  {
   "cell_type": "code",
   "execution_count": 17,
   "metadata": {},
   "outputs": [],
   "source": [
    "def checkPermutation(str1, str2):\n",
    "    if len(sorted(str1)) != len(sorted(str2)):\n",
    "        return False\n",
    "    return sorted(str1) == sorted(str2)"
   ]
  },
  {
   "cell_type": "code",
   "execution_count": 21,
   "metadata": {},
   "outputs": [],
   "source": [
    "NO_OF_CHARS = 256\n",
    "def checkAnagram(str1, str2):\n",
    "    count1 = [0] * NO_OF_CHARS\n",
    "    count2 = [0] * NO_OF_CHARS\n",
    "    \n",
    "    for char in str1:\n",
    "        count1[ord(char)] += 1\n",
    "    for char in str2:\n",
    "        count2[ord(char)] += 1\n",
    "        \n",
    "    if len(str1) != len(str2):\n",
    "        return False\n",
    "    \n",
    "    for i in range(NO_OF_CHARS):\n",
    "        if count1[i] != count2[i]:\n",
    "            return False\n",
    "    return True"
   ]
  },
  {
   "cell_type": "code",
   "execution_count": 23,
   "metadata": {},
   "outputs": [
    {
     "data": {
      "text/plain": [
       "True"
      ]
     },
     "execution_count": 23,
     "metadata": {},
     "output_type": "execute_result"
    }
   ],
   "source": [
    "checkAnagram('god', 'dog')"
   ]
  },
  {
   "cell_type": "markdown",
   "metadata": {},
   "source": [
    "## Problem4:\n",
    "reverse an integer"
   ]
  },
  {
   "cell_type": "code",
   "execution_count": 5,
   "metadata": {},
   "outputs": [],
   "source": [
    "def reverse_int(n):\n",
    "    reverse = 0\n",
    "    while n > 0:\n",
    "        a = n % 10\n",
    "        reverse = reverse*10 + a\n",
    "        n = n // 10\n",
    "    return reverse"
   ]
  },
  {
   "cell_type": "code",
   "execution_count": 8,
   "metadata": {},
   "outputs": [
    {
     "data": {
      "text/plain": [
       "84747353"
      ]
     },
     "execution_count": 8,
     "metadata": {},
     "output_type": "execute_result"
    }
   ],
   "source": [
    "reverse_int(35374748)"
   ]
  },
  {
   "cell_type": "markdown",
   "metadata": {},
   "source": [
    "## Problem5:\n",
    "\n",
    "Write a method to replace all spaces in a string with '%20'. You may assume that the string has sufficient space at the end to hold the additional characters, and that you are given the \"true\" length of the string."
   ]
  },
  {
   "cell_type": "code",
   "execution_count": 9,
   "metadata": {},
   "outputs": [],
   "source": [
    "MAX = 1000\n",
    "def urlify(string):\n",
    "    string = string.strip()\n",
    "    i = len(string)\n",
    "    # count number of spaces\n",
    "    space_count = string.count(' ')\n",
    "    \n",
    "    # find the new length\n",
    "    new_length = i + space_count * 2\n",
    "    \n",
    "    if new_length > MAX:\n",
    "        return -1\n",
    "    \n",
    "    # start filling character from end\n",
    "    index = new_length - 1\n",
    "    \n",
    "    string = list(string)\n",
    "    \n",
    "    # fill the string array\n",
    "    for f in range(i-2, new_length-2):\n",
    "        string.append(0)\n",
    "        \n",
    "    # fill the rest of the string from end:\n",
    "    for j in range(i-1, 0, -1):\n",
    "        if string[j] == ' ':\n",
    "            string[index] = '0'\n",
    "            string[index - 1] = '2'\n",
    "            string[index - 2] = '%'\n",
    "            index = index - 3\n",
    "        else:\n",
    "            string[index] = string[j]\n",
    "            index -= 1\n",
    "            \n",
    "    return ''.join(string)"
   ]
  },
  {
   "cell_type": "code",
   "execution_count": 10,
   "metadata": {},
   "outputs": [
    {
     "data": {
      "text/plain": [
       "'I%20am%20debu'"
      ]
     },
     "execution_count": 10,
     "metadata": {},
     "output_type": "execute_result"
    }
   ],
   "source": [
    "urlify('I am debu   ')"
   ]
  },
  {
   "cell_type": "markdown",
   "metadata": {},
   "source": [
    "## Problem6:\n",
    "\n",
    "Implement a method to perform basic string compression using the counts of repeated characters. For example, the string aabcccccaaa would become a2blc5a3. If the \"compressed \"string would not become smaller than the original string, your method should return the original string. You can assume the string has only uppercase and lowercase letters (a - z)."
   ]
  },
  {
   "cell_type": "code",
   "execution_count": 34,
   "metadata": {},
   "outputs": [],
   "source": [
    "from collections import OrderedDict"
   ]
  },
  {
   "cell_type": "code",
   "execution_count": 35,
   "metadata": {},
   "outputs": [],
   "source": [
    "def lengthEncoding(targetStr):\n",
    "    dct = OrderedDict.fromkeys(targetStr, 0)\n",
    "    for ch in targetStr:\n",
    "        dct[ch] += 1\n",
    "    compressedStr = ''\n",
    "    \n",
    "    for key, value in dct.items():\n",
    "        compressedStr = compressedStr + key + str(value)\n",
    "    return compressedStr"
   ]
  },
  {
   "cell_type": "code",
   "execution_count": 36,
   "metadata": {},
   "outputs": [
    {
     "data": {
      "text/plain": [
       "'a5b1c5'"
      ]
     },
     "execution_count": 36,
     "metadata": {},
     "output_type": "execute_result"
    }
   ],
   "source": [
    "lengthEncoding('aabcccccaaa')"
   ]
  },
  {
   "cell_type": "code",
   "execution_count": 43,
   "metadata": {},
   "outputs": [],
   "source": [
    "def compressString(targetStr):\n",
    "    compressedStr = \"\"\n",
    "    countConsecutive = 0\n",
    "    \n",
    "    for i in range(len(targetStr)):\n",
    "        countConsecutive += 1\n",
    "        \n",
    "        if (i + 1) >= len(targetStr) or (targetStr[i] != targetStr[i+1]):\n",
    "            compressedStr = compressedStr + targetStr[i] + str(countConsecutive)\n",
    "            countConsecutive = 0\n",
    "    return compressedStr if len(compressedStr) < len(targetStr) else targetStr"
   ]
  },
  {
   "cell_type": "code",
   "execution_count": 44,
   "metadata": {},
   "outputs": [
    {
     "data": {
      "text/plain": [
       "'a2b1c5a3'"
      ]
     },
     "execution_count": 44,
     "metadata": {},
     "output_type": "execute_result"
    }
   ],
   "source": [
    "compressString('aabcccccaaa')"
   ]
  },
  {
   "cell_type": "code",
   "execution_count": null,
   "metadata": {},
   "outputs": [],
   "source": []
  }
 ],
 "metadata": {
  "kernelspec": {
   "display_name": "Python 3",
   "language": "python",
   "name": "python3"
  },
  "language_info": {
   "codemirror_mode": {
    "name": "ipython",
    "version": 3
   },
   "file_extension": ".py",
   "mimetype": "text/x-python",
   "name": "python",
   "nbconvert_exporter": "python",
   "pygments_lexer": "ipython3",
   "version": "3.7.4"
  }
 },
 "nbformat": 4,
 "nbformat_minor": 2
}
